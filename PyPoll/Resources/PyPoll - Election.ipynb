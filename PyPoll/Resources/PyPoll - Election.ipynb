{
 "cells": [
  {
   "cell_type": "code",
   "execution_count": 3,
   "metadata": {},
   "outputs": [],
   "source": [
    "import csv\n",
    "import os"
   ]
  },
  {
   "cell_type": "code",
   "execution_count": 23,
   "metadata": {},
   "outputs": [],
   "source": [
    "csvpoll = os.path.join('election_data.csv')\n",
    "exportpoll = os.path.join('election_data.txt')"
   ]
  },
  {
   "cell_type": "code",
   "execution_count": 29,
   "metadata": {},
   "outputs": [
    {
     "name": "stdout",
     "output_type": "stream",
     "text": [
      "<_csv.reader object at 0x7fa997384450>\n",
      "-----------------------\n",
      "Winning Candidate: Khan\n",
      "-----------------------\n",
      "\n"
     ]
    }
   ],
   "source": [
    "total_votes = 0\n",
    "win_count = 0\n",
    "candidate = []\n",
    "candidate_votes = { }\n",
    "\n",
    "\n",
    "with open(csvpoll) as csvfile:\n",
    "    csvreader = csv.reader(csvfile, delimiter=',')\n",
    "    print(csvreader)\n",
    "    csv_header = next(csvreader)\n",
    "   \n",
    "\n",
    "    \n",
    "    for i in csvreader:\n",
    "        total_votes = total_votes + 1\n",
    "        candidate_name = i[2]\n",
    "        if candidate_name not in candidate:\n",
    "            candidate.append(candidate_name)\n",
    "            candidate_votes[candidate_name]=0\n",
    "        candidate_votes[candidate_name] = candidate_votes[candidate_name]  + 1\n",
    "   \n",
    "\n",
    "with open(exportpoll,\"w\") as txt_file:\n",
    "    \n",
    "    summary = (\n",
    "    f\"\\nElection Results\\n\"\n",
    "    f\"-----------------------\\n\"\n",
    "    f\"Total Votes: {total_votes}\\n\"\n",
    "    f\"-----------------------\\n\"\n",
    "\n",
    "    )\n",
    "\n",
    "    txt_file.write(summary)\n",
    "    for candidate in candidate_votes:\n",
    "        votes = candidate_votes.get(candidate)\n",
    "        vote_percnt = float(votes) / float(total_votes)*100\n",
    "        \n",
    "        if(votes > win_count):\n",
    "            win_count = votes\n",
    "            winning_candidate = candidate\n",
    "        voter_output = f\"{candidate}:{vote_percnt:.3f}% ({votes})\\n\"\n",
    "        txt_file.write(voter_output)\n",
    "      \n",
    "    summary = (\n",
    "    f\"-----------------------\\n\"\n",
    "    f\"Winning Candidate: {winning_candidate}\\n\"\n",
    "    f\"-----------------------\\n\"\n",
    "    )\n",
    "    print(summary)\n",
    "    txt_file.write(summary)\n",
    "    "
   ]
  },
  {
   "cell_type": "code",
   "execution_count": null,
   "metadata": {},
   "outputs": [],
   "source": []
  }
 ],
 "metadata": {
  "kernelspec": {
   "display_name": "Python 3",
   "language": "python",
   "name": "python3"
  },
  "language_info": {
   "codemirror_mode": {
    "name": "ipython",
    "version": 3
   },
   "file_extension": ".py",
   "mimetype": "text/x-python",
   "name": "python",
   "nbconvert_exporter": "python",
   "pygments_lexer": "ipython3",
   "version": "3.7.6"
  }
 },
 "nbformat": 4,
 "nbformat_minor": 4
}
