{
 "cells": [
  {
   "cell_type": "code",
   "execution_count": 56,
   "metadata": {},
   "outputs": [],
   "source": [
    "import os\n",
    "import csv"
   ]
  },
  {
   "cell_type": "code",
   "execution_count": 118,
   "metadata": {},
   "outputs": [],
   "source": [
    "csvbudget = os.path.join('budget_data.csv')\n",
    "exportbudget = os.path.join('budget_data.txt')\n"
   ]
  },
  {
   "cell_type": "code",
   "execution_count": 126,
   "metadata": {},
   "outputs": [
    {
     "name": "stdout",
     "output_type": "stream",
     "text": [
      "\n",
      "Financial Analysis\n",
      "-----------------------\n",
      "Total Months: 86\n",
      "Total Net Sum: $38382578\n",
      "Avg Change:$-2315.12\n",
      "Greatest increase in profitsFeb-2012,($1926159)\n",
      "Greatest decrease in profitsSep-2013,($-2196167)\n",
      "\n"
     ]
    }
   ],
   "source": [
    "no_of_months = 0\n",
    "net_sum = 0\n",
    "months_of_change = []\n",
    "change_list = []\n",
    "greatest_increase = [\"\",0]\n",
    "greatest_decrease = [\"\",999999999999999999999]\n",
    "\n",
    "with open(csvbudget) as csvfile:\n",
    "    csvreader = csv.reader(csvfile, delimiter=',')\n",
    "    csv_header = next(csvreader)\n",
    "    \n",
    "    first_row = next(csvreader)\n",
    "    no_of_months = no_of_months + 1\n",
    "    net_sum = net_sum + int(first_row[1])\n",
    "    prev_net = int(first_row[1])\n",
    "\n",
    "    \n",
    "    for i in csvreader:   \n",
    "         \n",
    "        no_of_months = no_of_months + 1\n",
    "        net_sum = net_sum + int(i[1])\n",
    "\n",
    "            \n",
    "        net_change = int(i[1]) - prev_net\n",
    "        prev_net = int(i[1])\n",
    "        change_list = change_list + [net_change]\n",
    "#         print(net_change_list)\n",
    "        months_of_change = months_of_change + [i[0]]\n",
    "        if net_change > greatest_increase[1]:\n",
    "            greatest_increase[0] = i[0]\n",
    "            greatest_increase[1] = net_change\n",
    "         \n",
    "            \n",
    "        if net_change < greatest_decrease[1]:\n",
    "            greatest_decrease[0] = i[0]\n",
    "            greatest_decrease[1] = net_change\n",
    "    net_monthly_avg = sum(change_list) / len(change_list)\n",
    "    \n",
    "    summary = (\n",
    "    f\"\\nFinancial Analysis\\n\"\n",
    "    f\"-----------------------\\n\"\n",
    "    f\"Total Months: {no_of_months}\\n\"\n",
    "    f\"Total Net Sum: ${net_sum}\\n\"\n",
    "    f\"Avg Change:${net_monthly_avg:.2f}\\n\"\n",
    "    f\"Greatest increase in profits{greatest_increase[0]},(${greatest_increase[1]})\\n\"\n",
    "    f\"Greatest decrease in profits{greatest_decrease[0]},(${greatest_decrease[1]})\\n\"\n",
    "    )\n",
    "    print(summary)\n",
    "            \n",
    "        \n",
    "with open(exportbudget,\"w\") as txt_file:\n",
    "    txt_file.write(summary)\n",
    "\n",
    "\n",
    "    \n"
   ]
  },
  {
   "cell_type": "code",
   "execution_count": null,
   "metadata": {},
   "outputs": [],
   "source": []
  },
  {
   "cell_type": "code",
   "execution_count": null,
   "metadata": {},
   "outputs": [],
   "source": []
  }
 ],
 "metadata": {
  "kernelspec": {
   "display_name": "Python 3",
   "language": "python",
   "name": "python3"
  },
  "language_info": {
   "codemirror_mode": {
    "name": "ipython",
    "version": 3
   },
   "file_extension": ".py",
   "mimetype": "text/x-python",
   "name": "python",
   "nbconvert_exporter": "python",
   "pygments_lexer": "ipython3",
   "version": "3.7.6"
  }
 },
 "nbformat": 4,
 "nbformat_minor": 4
}
